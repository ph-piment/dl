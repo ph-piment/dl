{
 "cells": [
  {
   "cell_type": "code",
   "execution_count": null,
   "metadata": {},
   "outputs": [],
   "source": [
    "class Prediction:\n",
    "    def __init__(self,maxlen,n_hidden,n_in,n_out):\n",
    "        self.maxlen=maxlen\n",
    "        self.n_hidden=n_hidden\n",
    "        self.n_in=n_in self.n_out=n_out\n",
    "\n",
    "    def create_model(self):\n",
    "        model = Sequential()\n",
    "        model.add(LSTM(self.n_hidden, batch_input_shape=(None, self.maxlen, self.n_in),\n",
    "                       activation='tanh', recurrent_activation='hard_sigmoid', use_bias=True, \n",
    "                       kernel_initializer=glorot_uniform(seed=20170719), \n",
    "                       recurrent_initializer=orthogonal(gain=1.0, seed=20170719),\n",
    "                       bias_initializer='zeros',\n",
    "                       unit_forget_bias=True,\n",
    "                       kernel_regularizer=None,\n",
    "                       recurrent_regularizer=None,\n",
    "                       bias_regularizer=None,\n",
    "                       activity_regularizer=None,\n",
    "                       kernel_constraint=None,\n",
    "                       recurrent_constraint=None,\n",
    "                       bias_constraint=None,\n",
    "                       dropout=0.5,\n",
    "                       recurrent_dropout=0.5))\n",
    "\n",
    "        model.add(Dropout(0.5,noise_shape=None, seed=None))\n",
    "        model.add(Dense(self.n_out,activation=None, use_bias=True,\n",
    "                        kernel_initializer=glorot_uniform(seed=20170719),\n",
    "                        bias_initializer='zeros',\n",
    "                        kernel_regularizer=None,\n",
    "                        bias_regularizer=None,\n",
    "                        activity_regularizer=None,\n",
    "                        kernel_constraint=None,\n",
    "                        bias_constraint=None))\n",
    "        model.add(Activation(\"softmax\"))\n",
    "        model.compile(loss=“categorical_crossentropy”,optimizer=“RMSprop”,\n",
    "                      metrics=['categorical_accuracy'])\n",
    "        return model\n",
    "\n",
    "    # 学習\n",
    "    def train(self, x_train, t_train,batch_size,epochs) :\n",
    "        early_stopping = EarlyStopping(patience=10, verbose=1)\n",
    "        model = self.create_model()\n",
    "        model.fit(x_train, t_train, batch_size=batch_size, epochs=epochs,verbose=1,\n",
    "                  shuffle=True,callbacks=[early_stopping],validation_split=0.1)\n",
    "        return model"
   ]
  }
 ],
 "metadata": {
  "kernelspec": {
   "display_name": "Python 3",
   "language": "python",
   "name": "python3"
  },
  "language_info": {
   "codemirror_mode": {
    "name": "ipython",
    "version": 3
   },
   "file_extension": ".py",
   "mimetype": "text/x-python",
   "name": "python",
   "nbconvert_exporter": "python",
   "pygments_lexer": "ipython3",
   "version": "3.8.5"
  }
 },
 "nbformat": 4,
 "nbformat_minor": 4
}
